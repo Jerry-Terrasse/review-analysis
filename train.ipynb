{
 "cells": [
  {
   "cell_type": "code",
   "execution_count": 66,
   "metadata": {},
   "outputs": [
    {
     "data": {
      "text/plain": [
       "9"
      ]
     },
     "execution_count": 66,
     "metadata": {},
     "output_type": "execute_result"
    }
   ],
   "source": [
    "import torch\n",
    "from torch import nn, Tensor\n",
    "from torch.utils.data import Dataset, DataLoader\n",
    "from torch.nn import functional as F\n",
    "\n",
    "import glob\n",
    "import time\n",
    "import json\n",
    "\n",
    "from typing import Callable\n",
    "from collections import Counter\n",
    "\n",
    "from loguru import logger\n",
    "from tqdm import tqdm\n",
    "logger.remove()\n",
    "logger.add(lambda msg: tqdm.write(msg, end=\"\"), colorize=True)"
   ]
  },
  {
   "cell_type": "code",
   "execution_count": 67,
   "metadata": {},
   "outputs": [],
   "source": [
    "class Review:\n",
    "    def __init__(self, quote: str, score: float) -> None:\n",
    "        self.quote = quote.strip()\n",
    "        self.score = score\n",
    "        self.isacii = self.quote.isascii()\n",
    "    def __repr__(self) -> str:\n",
    "        return f'''Rating: {self.score}\n",
    "{self.review}\n",
    "'''\n",
    "\n",
    "class TomatoDataset(Dataset):\n",
    "    def __init__(self, root_dir: str):\n",
    "        self.root_dir = root_dir\n",
    "        self.files = glob.glob(root_dir + '/*.json')\n",
    "        self.data: list[Review] = []\n",
    "        self.counter = Counter()\n",
    "        for fname in self.files:\n",
    "            with open(fname) as f:\n",
    "                try:\n",
    "                    data: dict[str, dict] = json.load(f)\n",
    "                except json.JSONDecodeError:\n",
    "                    logger.warning(f'Failed to load {fname}')\n",
    "                    continue\n",
    "            for _, item in data.items():\n",
    "                assert item['rating'] == item['score']\n",
    "                rating = item['rating']\n",
    "                quote = item['quote']\n",
    "                \n",
    "                if self.counter[rating] > 200: # TEMP\n",
    "                    continue\n",
    "                self.counter[rating] += 1\n",
    "                \n",
    "                review = Review(quote, rating)\n",
    "                if review.isacii:\n",
    "                    self.data.append(review)\n",
    "        logger.info(f\"{self.counter}\")\n",
    "        logger.info(f'Loaded {len(self.data)} reviews')\n",
    "\n",
    "    def __len__(self) -> int:\n",
    "        return len(self.data)\n",
    "    \n",
    "    def __getitem__(self, idx: int) -> tuple[Tensor, Tensor]:\n",
    "        review = self.data[idx]\n",
    "        quote, score = review.quote, review.score\n",
    "        quote_ = torch.frombuffer(quote.encode('ascii', 'ignore'), dtype=torch.uint8)\n",
    "        score_ = torch.tensor(score / 5)\n",
    "        return quote_, score_"
   ]
  },
  {
   "cell_type": "code",
   "execution_count": 68,
   "metadata": {},
   "outputs": [
    {
     "name": "stdout",
     "output_type": "stream",
     "text": [
      "\u001b[32m2023-07-20 00:42:31.273\u001b[0m | \u001b[1mINFO    \u001b[0m | \u001b[36m__main__\u001b[0m:\u001b[36m__init__\u001b[0m:\u001b[36m36\u001b[0m - \u001b[1mCounter({5: 201, 3: 201, 4.5: 201, 3.5: 201, 4: 201, 0.5: 201, 2: 201, 1: 201, 2.5: 165, 1.5: 111})\u001b[0m\n",
      "\u001b[32m2023-07-20 00:42:31.273\u001b[0m | \u001b[1mINFO    \u001b[0m | \u001b[36m__main__\u001b[0m:\u001b[36m__init__\u001b[0m:\u001b[36m37\u001b[0m - \u001b[1mLoaded 1661 reviews\u001b[0m\n",
      "\u001b[32m2023-07-20 00:42:31.274\u001b[0m | \u001b[1mINFO    \u001b[0m | \u001b[36m__main__\u001b[0m:\u001b[36m<module>\u001b[0m:\u001b[36m12\u001b[0m - \u001b[1mTrain size: 1328\u001b[0m\n",
      "\u001b[32m2023-07-20 00:42:31.274\u001b[0m | \u001b[1mINFO    \u001b[0m | \u001b[36m__main__\u001b[0m:\u001b[36m<module>\u001b[0m:\u001b[36m13\u001b[0m - \u001b[1mTest size: 333\u001b[0m\n",
      "\u001b[32m2023-07-20 00:42:31.275\u001b[0m | \u001b[34m\u001b[1mDEBUG   \u001b[0m | \u001b[36m__main__\u001b[0m:\u001b[36m<module>\u001b[0m:\u001b[36m21\u001b[0m - \u001b[34m\u001b[1mtensor([[ 84, 121, 112, 105,  99,  97, 108,  32,  87, 101, 115,  32,  65, 110,\n",
      "         100, 101, 114, 115, 111, 110,  32, 119, 105, 116, 104,  32, 114, 101,\n",
      "         112, 101,  97, 116, 101, 100,  32,  97, 116, 116, 101, 109, 112, 116,\n",
      "         115,  32, 116, 111,  32,  98, 101,  32, 102, 117, 110, 110, 121,  32,\n",
      "          98, 101, 108, 108, 121,  45, 102, 108, 111, 112, 112, 105, 110, 103,\n",
      "          46,  32,  65,  32, 102, 101, 119,  32, 111, 102,  32, 116, 104, 101,\n",
      "          32, 113, 117, 105, 114, 107, 121,  32, 109, 111, 109, 101, 110, 116,\n",
      "         115,  32, 107, 105, 110, 100,  97,  32, 119, 111, 114, 107, 101, 100,\n",
      "          32,  98, 117, 116,  32, 109, 111, 115, 116,  32, 100, 105, 100, 110,\n",
      "          39, 116,  46,  32,  32,  65,  32,  99, 108, 101,  97, 114,  32, 116,\n",
      "         104, 117, 109,  98, 115,  32, 100, 111, 119, 110,  46,  32,  32,  52,\n",
      "          46,  50,  32, 111, 117, 116,  32, 111, 102,  32,  49,  48]],\n",
      "       dtype=torch.uint8)\u001b[0m\n"
     ]
    }
   ],
   "source": [
    "dataset_path = \"./theater\"\n",
    "\n",
    "dataset = TomatoDataset(dataset_path)\n",
    "\n",
    "train_size = int(0.8 * len(dataset))\n",
    "test_size = len(dataset) - train_size\n",
    "\n",
    "train_data, test_data = torch.utils.data.random_split(dataset, [train_size, test_size])\n",
    "\n",
    "train_loader, test_loader = DataLoader(train_data, batch_size=1), DataLoader(test_data, batch_size=1)\n",
    "\n",
    "logger.info(f'Train size: {len(train_loader)}')\n",
    "logger.info(f'Test size: {len(test_loader)}')\n",
    "\n",
    "# dataloader = DataLoader(dataset, batch_size=1, shuffle=True)\n",
    "# for i, data in enumerate(dataloader):\n",
    "#     print(data)\n",
    "#     if i > 10:\n",
    "#         break\n",
    "\n",
    "logger.debug(next(iter(train_loader))[0])"
   ]
  },
  {
   "cell_type": "code",
   "execution_count": 69,
   "metadata": {},
   "outputs": [],
   "source": [
    "class Net(nn.Module):\n",
    "    def __init__(self, vocab_size=256, num_hidden=128, num_layers=2):\n",
    "        super().__init__()\n",
    "        self.vocab_size = vocab_size\n",
    "        self.num_hidden = num_hidden\n",
    "        self.num_layers = num_layers\n",
    "        self.lstm = nn.LSTM(vocab_size, num_hidden, num_layers)\n",
    "        self.linear = nn.Linear(num_hidden, 1)\n",
    "    \n",
    "    def forward(self, inputs, state):\n",
    "        X = F.one_hot(inputs.T.long(), self.vocab_size)\n",
    "        X = X.float()\n",
    "        Y, state = self.lstm(X, state)\n",
    "        output = self.linear(Y)\n",
    "        output = torch.sigmoid(output)\n",
    "        return output, state\n",
    "    \n",
    "    def begin_state(self, device, batch_size=1):\n",
    "        return (\n",
    "            torch.zeros(self.num_layers, batch_size, self.num_hidden, device=device),\n",
    "            torch.zeros(self.num_layers, batch_size, self.num_hidden, device=device)\n",
    "        )"
   ]
  },
  {
   "cell_type": "code",
   "execution_count": 70,
   "metadata": {},
   "outputs": [
    {
     "data": {
      "text/plain": [
       "Net(\n",
       "  (lstm): LSTM(256, 128, num_layers=2)\n",
       "  (linear): Linear(in_features=128, out_features=1, bias=True)\n",
       ")"
      ]
     },
     "execution_count": 70,
     "metadata": {},
     "output_type": "execute_result"
    }
   ],
   "source": [
    "vocab_size, num_hidden, num_layers = 256, 128, 2\n",
    "device = 'cuda:0'\n",
    "\n",
    "net = Net(vocab_size, num_hidden, num_layers)\n",
    "\n",
    "for m in net.modules():\n",
    "    if isinstance(m, nn.Linear):\n",
    "        nn.init.xavier_uniform_(m.weight)\n",
    "    elif isinstance(m, nn.LSTM):\n",
    "        for param in m.parameters():\n",
    "            if len(param.shape) >= 2:\n",
    "                nn.init.xavier_uniform_(param)\n",
    "\n",
    "\n",
    "net.to(device)\n",
    "\n",
    "# for x in net.parameters():\n",
    "#     print(x.shape)"
   ]
  },
  {
   "cell_type": "code",
   "execution_count": 71,
   "metadata": {},
   "outputs": [],
   "source": [
    "def grad_clipping(net, theta):\n",
    "    params = [p for p in net.parameters() if p.requires_grad]\n",
    "    norm = torch.sqrt(sum(torch.sum((p.grad ** 2)) for p in params))\n",
    "    # logger.debug(f'grad norm: {norm}')\n",
    "    if norm > theta:\n",
    "        for param in params:\n",
    "            param.grad[:] *= theta / norm"
   ]
  },
  {
   "cell_type": "code",
   "execution_count": 72,
   "metadata": {},
   "outputs": [],
   "source": [
    "def evaluate(net, val_loader, loss):\n",
    "    net.eval()\n",
    "    losses = []\n",
    "    for X, Y in val_loader:\n",
    "        state = net.begin_state(device, batch_size=X.shape[0])\n",
    "        X, Y = X.to(device), Y.to(device)\n",
    "        y_hat, state = net(X, state)\n",
    "        final_y_hat = y_hat[-1].reshape(-1)\n",
    "        l = loss(Y, final_y_hat)\n",
    "        losses.append(l.item())\n",
    "    return sum(losses) / len(losses)\n",
    "\n",
    "def train(net, train_loader, val_loader, lr, num_epochs):\n",
    "    loss = nn.MSELoss()\n",
    "    optimizer = torch.optim.Adam(net.parameters(), lr=lr)\n",
    "    \n",
    "    for epoch in tqdm(range(num_epochs)):\n",
    "        net.train()\n",
    "        for X, Y in train_loader:\n",
    "            state = net.begin_state(device, batch_size=X.shape[0])\n",
    "            \n",
    "            X, Y = X.to(device), Y.to(device)\n",
    "            y_hat, state = net(X, state)\n",
    "            # final_y_hat = y_hat[-1].reshape(-1)\n",
    "            # import pdb; pdb.set_trace()\n",
    "            Y = Y.repeat(y_hat.shape[0], 1).reshape(-1, 1, 1)\n",
    "            l = loss(Y, y_hat)\n",
    "            # logger.debug(Y)\n",
    "            # logger.debug(f\"Y {Y.norm()} y_hat {y_hat.norm()} loss {l.item()}\")\n",
    "            \n",
    "            optimizer.zero_grad()\n",
    "            l.backward()\n",
    "            # logger.info([x.grad for x in optimizer.param_groups[0]['params']])\n",
    "            # input(\"pause\")\n",
    "            grad_clipping(net, 1.)\n",
    "            optimizer.step()\n",
    "        logger.info(f'Epoch {epoch} loss: {l.item():.6f}')\n",
    "        val_loss = evaluate(net, val_loader, loss)\n",
    "        logger.info(f'Epoch {epoch} val loss: {val_loss:.6f}')\n",
    "        if epoch % 10 == 0:\n",
    "            torch.save(net.state_dict(), f'./ckpts/model_{epoch}.pt')\n"
   ]
  },
  {
   "cell_type": "code",
   "execution_count": 73,
   "metadata": {},
   "outputs": [
    {
     "name": "stderr",
     "output_type": "stream",
     "text": [
      "  0%|          | 0/100 [00:05<?, ?it/s]"
     ]
    },
    {
     "name": "stdout",
     "output_type": "stream",
     "text": [
      "\u001b[32m2023-07-20 00:42:38.109\u001b[0m | \u001b[1mINFO    \u001b[0m | \u001b[36m__main__\u001b[0m:\u001b[36mtrain\u001b[0m:\u001b[36m37\u001b[0m - \u001b[1mEpoch 0 loss: 1.000000\u001b[0m\n"
     ]
    },
    {
     "name": "stderr",
     "output_type": "stream",
     "text": [
      "  1%|          | 1/100 [00:06<10:19,  6.26s/it]"
     ]
    },
    {
     "name": "stdout",
     "output_type": "stream",
     "text": [
      "\u001b[32m2023-07-20 00:42:38.659\u001b[0m | \u001b[1mINFO    \u001b[0m | \u001b[36m__main__\u001b[0m:\u001b[36mtrain\u001b[0m:\u001b[36m39\u001b[0m - \u001b[1mEpoch 0 val loss: 0.411081\u001b[0m\n"
     ]
    },
    {
     "name": "stderr",
     "output_type": "stream",
     "text": [
      "  1%|          | 1/100 [00:11<10:19,  6.26s/it]"
     ]
    },
    {
     "name": "stdout",
     "output_type": "stream",
     "text": [
      "\u001b[32m2023-07-20 00:42:43.964\u001b[0m | \u001b[1mINFO    \u001b[0m | \u001b[36m__main__\u001b[0m:\u001b[36mtrain\u001b[0m:\u001b[36m37\u001b[0m - \u001b[1mEpoch 1 loss: 1.000000\u001b[0m\n"
     ]
    },
    {
     "name": "stderr",
     "output_type": "stream",
     "text": [
      "  2%|▏         | 2/100 [00:11<09:43,  5.95s/it]"
     ]
    },
    {
     "name": "stdout",
     "output_type": "stream",
     "text": [
      "\u001b[32m2023-07-20 00:42:44.404\u001b[0m | \u001b[1mINFO    \u001b[0m | \u001b[36m__main__\u001b[0m:\u001b[36mtrain\u001b[0m:\u001b[36m39\u001b[0m - \u001b[1mEpoch 1 val loss: 0.411081\u001b[0m\n"
     ]
    },
    {
     "name": "stderr",
     "output_type": "stream",
     "text": [
      "  2%|▏         | 2/100 [00:17<09:43,  5.95s/it]"
     ]
    },
    {
     "name": "stdout",
     "output_type": "stream",
     "text": [
      "\u001b[32m2023-07-20 00:42:50.163\u001b[0m | \u001b[1mINFO    \u001b[0m | \u001b[36m__main__\u001b[0m:\u001b[36mtrain\u001b[0m:\u001b[36m37\u001b[0m - \u001b[1mEpoch 2 loss: 1.000000\u001b[0m\n"
     ]
    },
    {
     "name": "stderr",
     "output_type": "stream",
     "text": [
      "  3%|▎         | 3/100 [00:18<09:50,  6.08s/it]"
     ]
    },
    {
     "name": "stdout",
     "output_type": "stream",
     "text": [
      "\u001b[32m2023-07-20 00:42:50.646\u001b[0m | \u001b[1mINFO    \u001b[0m | \u001b[36m__main__\u001b[0m:\u001b[36mtrain\u001b[0m:\u001b[36m39\u001b[0m - \u001b[1mEpoch 2 val loss: 0.411081\u001b[0m\n"
     ]
    },
    {
     "name": "stderr",
     "output_type": "stream",
     "text": [
      "  3%|▎         | 3/100 [00:23<09:50,  6.08s/it]"
     ]
    },
    {
     "name": "stdout",
     "output_type": "stream",
     "text": [
      "\u001b[32m2023-07-20 00:42:55.654\u001b[0m | \u001b[1mINFO    \u001b[0m | \u001b[36m__main__\u001b[0m:\u001b[36mtrain\u001b[0m:\u001b[36m37\u001b[0m - \u001b[1mEpoch 3 loss: 1.000000\u001b[0m\n"
     ]
    },
    {
     "name": "stderr",
     "output_type": "stream",
     "text": [
      "  4%|▍         | 4/100 [00:23<09:23,  5.87s/it]"
     ]
    },
    {
     "name": "stdout",
     "output_type": "stream",
     "text": [
      "\u001b[32m2023-07-20 00:42:56.199\u001b[0m | \u001b[1mINFO    \u001b[0m | \u001b[36m__main__\u001b[0m:\u001b[36mtrain\u001b[0m:\u001b[36m39\u001b[0m - \u001b[1mEpoch 3 val loss: 0.411081\u001b[0m\n"
     ]
    },
    {
     "name": "stderr",
     "output_type": "stream",
     "text": [
      "  4%|▍         | 4/100 [00:29<11:38,  7.27s/it]\n"
     ]
    },
    {
     "ename": "KeyboardInterrupt",
     "evalue": "",
     "output_type": "error",
     "traceback": [
      "\u001b[0;31m---------------------------------------------------------------------------\u001b[0m",
      "\u001b[0;31mKeyboardInterrupt\u001b[0m                         Traceback (most recent call last)",
      "Cell \u001b[0;32mIn[73], line 1\u001b[0m\n\u001b[0;32m----> 1\u001b[0m train(net, train_loader, test_loader, \u001b[39m1.0\u001b[39;49m, \u001b[39m100\u001b[39;49m)\n",
      "Cell \u001b[0;32mIn[72], line 35\u001b[0m, in \u001b[0;36mtrain\u001b[0;34m(net, train_loader, val_loader, lr, num_epochs)\u001b[0m\n\u001b[1;32m     32\u001b[0m     l\u001b[39m.\u001b[39mbackward()\n\u001b[1;32m     33\u001b[0m     \u001b[39m# logger.info([x.grad for x in optimizer.param_groups[0]['params']])\u001b[39;00m\n\u001b[1;32m     34\u001b[0m     \u001b[39m# input(\"pause\")\u001b[39;00m\n\u001b[0;32m---> 35\u001b[0m     grad_clipping(net, \u001b[39m1.\u001b[39;49m)\n\u001b[1;32m     36\u001b[0m     optimizer\u001b[39m.\u001b[39mstep()\n\u001b[1;32m     37\u001b[0m logger\u001b[39m.\u001b[39minfo(\u001b[39mf\u001b[39m\u001b[39m'\u001b[39m\u001b[39mEpoch \u001b[39m\u001b[39m{\u001b[39;00mepoch\u001b[39m}\u001b[39;00m\u001b[39m loss: \u001b[39m\u001b[39m{\u001b[39;00ml\u001b[39m.\u001b[39mitem()\u001b[39m:\u001b[39;00m\u001b[39m.6f\u001b[39m\u001b[39m}\u001b[39;00m\u001b[39m'\u001b[39m)\n",
      "Cell \u001b[0;32mIn[71], line 5\u001b[0m, in \u001b[0;36mgrad_clipping\u001b[0;34m(net, theta)\u001b[0m\n\u001b[1;32m      3\u001b[0m norm \u001b[39m=\u001b[39m torch\u001b[39m.\u001b[39msqrt(\u001b[39msum\u001b[39m(torch\u001b[39m.\u001b[39msum((p\u001b[39m.\u001b[39mgrad \u001b[39m*\u001b[39m\u001b[39m*\u001b[39m \u001b[39m2\u001b[39m)) \u001b[39mfor\u001b[39;00m p \u001b[39min\u001b[39;00m params))\n\u001b[1;32m      4\u001b[0m \u001b[39m# logger.debug(f'grad norm: {norm}')\u001b[39;00m\n\u001b[0;32m----> 5\u001b[0m \u001b[39mif\u001b[39;00m norm \u001b[39m>\u001b[39m theta:\n\u001b[1;32m      6\u001b[0m     \u001b[39mfor\u001b[39;00m param \u001b[39min\u001b[39;00m params:\n\u001b[1;32m      7\u001b[0m         param\u001b[39m.\u001b[39mgrad[:] \u001b[39m*\u001b[39m\u001b[39m=\u001b[39m theta \u001b[39m/\u001b[39m norm\n",
      "\u001b[0;31mKeyboardInterrupt\u001b[0m: "
     ]
    }
   ],
   "source": [
    "train(net, train_loader, test_loader, 1.0, 100)"
   ]
  }
 ],
 "metadata": {
  "kernelspec": {
   "display_name": "d2l",
   "language": "python",
   "name": "python3"
  },
  "language_info": {
   "codemirror_mode": {
    "name": "ipython",
    "version": 3
   },
   "file_extension": ".py",
   "mimetype": "text/x-python",
   "name": "python",
   "nbconvert_exporter": "python",
   "pygments_lexer": "ipython3",
   "version": "3.10.10"
  },
  "orig_nbformat": 4
 },
 "nbformat": 4,
 "nbformat_minor": 2
}
